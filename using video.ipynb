{
 "cells": [
  {
   "cell_type": "code",
   "execution_count": 2,
   "id": "5bbcdc6e",
   "metadata": {},
   "outputs": [],
   "source": [
    "from tensorflow.keras.applications.mobilenet_v2 import preprocess_input\n",
    "from tensorflow.keras.preprocessing.image import img_to_array\n",
    "from tensorflow.keras.models import load_model\n",
    "import numpy as np\n",
    "import cv2\n",
    "import os\n",
    "from imutils.video import VideoStream\n",
    "import imutils"
   ]
  },
  {
   "cell_type": "code",
   "execution_count": 3,
   "id": "d438ef00",
   "metadata": {},
   "outputs": [],
   "source": [
    "def detect_and_predict_mask(frame,faceNet,maskNet):\n",
    "    \n",
    "    (h,w)=frame.shape[:2]\n",
    "    blob=cv2.dnn.blobFromImage(frame,1.0,(300,300),(104.0,177.0,123.0))\n",
    "    \n",
    "    faceNet.setInput(blob)\n",
    "    detections=faceNet.forward()\n",
    "    \n",
    "    \n",
    "    \n",
    "    faces=[]\n",
    "    locs=[]\n",
    "    preds=[]\n",
    "    \n",
    "    \n",
    "    for i in range(0,detections.shape[2]):\n",
    "        confidence=detections[0,0,i,2]\n",
    "    \n",
    "    \n",
    "        if confidence>0.5:\n",
    "        \n",
    "            box=detections[0,0,i,3:7]*np.array([w,h,w,h])\n",
    "            (startX,startY,endX,endY)=box.astype('int')\n",
    "        \n",
    "           \n",
    "            (startX,startY)=(max(0,startX),max(0,startY))\n",
    "            (endX,endY)=(min(w-1,endX), min(h-1,endY))\n",
    "        \n",
    "\n",
    "            face=frame[startY:endY, startX:endX]\n",
    "            face=cv2.cvtColor(face,cv2.COLOR_BGR2RGB)\n",
    "            face=cv2.resize(face,(224,224))\n",
    "            face=img_to_array(face)\n",
    "            face=preprocess_input(face)\n",
    "        \n",
    "            faces.append(face)\n",
    "            locs.append((startX,startY,endX,endY))\n",
    "        \n",
    "     \n",
    "        if len(faces)>0:\n",
    "            faces=np.array(faces,dtype='float32')\n",
    "            preds=maskNet.predict(faces,batch_size=12)\n",
    "        \n",
    "        return (locs,preds)"
   ]
  },
  {
   "cell_type": "code",
   "execution_count": 4,
   "id": "b9e59073",
   "metadata": {},
   "outputs": [],
   "source": [
    "prototxtPath=os.path.sep.join([r'E:\\python\\mask\\face','deploy.prototxt'])\n",
    "weightsPath=os.path.sep.join([r'E:\\python\\mask\\face','res10_300x300_ssd_iter_140000.caffemodel'])\n"
   ]
  },
  {
   "cell_type": "code",
   "execution_count": 5,
   "id": "649df5de",
   "metadata": {},
   "outputs": [],
   "source": [
    "faceNet=cv2.dnn.readNet(prototxtPath,weightsPath)"
   ]
  },
  {
   "cell_type": "code",
   "execution_count": 6,
   "id": "5d6ca18c",
   "metadata": {},
   "outputs": [],
   "source": [
    "maskNet=load_model(r'E:\\python\\mask\\trained.model')"
   ]
  },
  {
   "cell_type": "code",
   "execution_count": 7,
   "id": "978140e4",
   "metadata": {},
   "outputs": [
    {
     "data": {
      "text/plain": [
       "<tensorflow.python.keras.engine.functional.Functional at 0x1b0c49a4e80>"
      ]
     },
     "execution_count": 7,
     "metadata": {},
     "output_type": "execute_result"
    }
   ],
   "source": [
    "maskNet"
   ]
  },
  {
   "cell_type": "code",
   "execution_count": 9,
   "id": "b4699cbc",
   "metadata": {},
   "outputs": [],
   "source": [
    "vs=VideoStream(src=0).start()\n",
    "\n",
    "while True:\n",
    "    \n",
    "    frame=vs.read()\n",
    "    frame=imutils.resize(frame,width=400)\n",
    "    \n",
    "    \n",
    "    (locs,preds)=detect_and_predict_mask(frame,faceNet,maskNet)\n",
    "    \n",
    "\n",
    "    \n",
    "    for (box,pred) in zip(locs,preds):\n",
    "        (startX,startY,endX,endY)=box\n",
    "        (mask,withoutMask)=pred\n",
    "        \n",
    "      \n",
    "        label='Mask' if mask>withoutMask else 'No Mask'\n",
    "        color=(0,255,0) if label=='Mask' else (0,0,255)\n",
    "        \n",
    "\n",
    "        cv2.putText(frame,label,(startX,startY-10),cv2.FONT_HERSHEY_SIMPLEX,0.45,color,2)\n",
    "        \n",
    "        cv2.rectangle(frame,(startX,startY),(endX,endY),color,2)\n",
    "        \n",
    "\n",
    "    cv2.imshow(\"Frame\",frame)\n",
    "    key=cv2.waitKey(1) & 0xFF\n",
    "    \n",
    "    if key==ord('q'):\n",
    "        break\n",
    "        \n",
    "cv2.destroyAllWindows()\n",
    "vs.stop()\n",
    "        \n",
    "        \n",
    "    "
   ]
  },
  {
   "cell_type": "code",
   "execution_count": null,
   "id": "412382eb",
   "metadata": {},
   "outputs": [],
   "source": []
  }
 ],
 "metadata": {
  "kernelspec": {
   "display_name": "Python 3",
   "language": "python",
   "name": "python3"
  },
  "language_info": {
   "codemirror_mode": {
    "name": "ipython",
    "version": 3
   },
   "file_extension": ".py",
   "mimetype": "text/x-python",
   "name": "python",
   "nbconvert_exporter": "python",
   "pygments_lexer": "ipython3",
   "version": "3.8.8"
  }
 },
 "nbformat": 4,
 "nbformat_minor": 5
}
